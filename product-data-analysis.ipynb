{
 "cells": [
  {
   "cell_type": "code",
   "execution_count": 1,
   "metadata": {},
   "outputs": [],
   "source": [
    "import pandas as pd\n",
    "import numpy as np\n",
    "import matplotlib.pyplot as plt\n",
    "import seaborn as sns\n",
    "import statsmodels.api as sm"
   ]
  },
  {
   "cell_type": "code",
   "execution_count": null,
   "metadata": {},
   "outputs": [],
   "source": [
    "df = pd.read_csv(\"forms_data.csv\")"
   ]
  },
  {
   "cell_type": "code",
   "execution_count": 3,
   "metadata": {},
   "outputs": [
    {
     "data": {
      "text/html": [
       "<div>\n",
       "<style scoped>\n",
       "    .dataframe tbody tr th:only-of-type {\n",
       "        vertical-align: middle;\n",
       "    }\n",
       "\n",
       "    .dataframe tbody tr th {\n",
       "        vertical-align: top;\n",
       "    }\n",
       "\n",
       "    .dataframe thead th {\n",
       "        text-align: right;\n",
       "    }\n",
       "</style>\n",
       "<table border=\"1\" class=\"dataframe\">\n",
       "  <thead>\n",
       "    <tr style=\"text-align: right;\">\n",
       "      <th></th>\n",
       "      <th>UserId</th>\n",
       "      <th>CompanyId</th>\n",
       "      <th>UserType</th>\n",
       "      <th>BreezeUser</th>\n",
       "      <th>IsDeleted</th>\n",
       "      <th>CreatedOn</th>\n",
       "      <th>State</th>\n",
       "      <th>PrimeTransactions</th>\n",
       "      <th>PrimeListings</th>\n",
       "      <th>LibrariesAdded</th>\n",
       "      <th>...</th>\n",
       "      <th>FilesCreated</th>\n",
       "      <th>FirstFileCreated</th>\n",
       "      <th>FormsAdded</th>\n",
       "      <th>FirstFormAdded</th>\n",
       "      <th>EnvelopesSent</th>\n",
       "      <th>FirstEnvelopeSent</th>\n",
       "      <th>EnvelopesCompleted</th>\n",
       "      <th>FirstEnvelopeCompleted</th>\n",
       "      <th>EnvelopesSentLastMonth</th>\n",
       "      <th>EnvelopesSentPriorMonth</th>\n",
       "    </tr>\n",
       "  </thead>\n",
       "  <tbody>\n",
       "    <tr>\n",
       "      <th>0</th>\n",
       "      <td>3992157255</td>\n",
       "      <td>3.024353e+09</td>\n",
       "      <td>Agent</td>\n",
       "      <td>0</td>\n",
       "      <td>0</td>\n",
       "      <td>2021-05-08 2:19:25</td>\n",
       "      <td>TX</td>\n",
       "      <td>25</td>\n",
       "      <td>5</td>\n",
       "      <td>1.0</td>\n",
       "      <td>...</td>\n",
       "      <td>1</td>\n",
       "      <td>2021-05-08 2:21:17</td>\n",
       "      <td>0</td>\n",
       "      <td>NaN</td>\n",
       "      <td>0</td>\n",
       "      <td>NaN</td>\n",
       "      <td>0</td>\n",
       "      <td>NaN</td>\n",
       "      <td>0</td>\n",
       "      <td>0</td>\n",
       "    </tr>\n",
       "    <tr>\n",
       "      <th>1</th>\n",
       "      <td>1046555750</td>\n",
       "      <td>9.573933e+07</td>\n",
       "      <td>Auditor</td>\n",
       "      <td>0</td>\n",
       "      <td>0</td>\n",
       "      <td>2021-05-14 20:29:20</td>\n",
       "      <td>MI</td>\n",
       "      <td>0</td>\n",
       "      <td>0</td>\n",
       "      <td>1.0</td>\n",
       "      <td>...</td>\n",
       "      <td>0</td>\n",
       "      <td>NaN</td>\n",
       "      <td>0</td>\n",
       "      <td>NaN</td>\n",
       "      <td>0</td>\n",
       "      <td>NaN</td>\n",
       "      <td>0</td>\n",
       "      <td>NaN</td>\n",
       "      <td>0</td>\n",
       "      <td>0</td>\n",
       "    </tr>\n",
       "    <tr>\n",
       "      <th>2</th>\n",
       "      <td>3451135525</td>\n",
       "      <td>NaN</td>\n",
       "      <td>NaN</td>\n",
       "      <td>0</td>\n",
       "      <td>0</td>\n",
       "      <td>2021-08-03 16:24:21</td>\n",
       "      <td>CA</td>\n",
       "      <td>0</td>\n",
       "      <td>0</td>\n",
       "      <td>NaN</td>\n",
       "      <td>...</td>\n",
       "      <td>0</td>\n",
       "      <td>NaN</td>\n",
       "      <td>0</td>\n",
       "      <td>NaN</td>\n",
       "      <td>0</td>\n",
       "      <td>NaN</td>\n",
       "      <td>0</td>\n",
       "      <td>NaN</td>\n",
       "      <td>0</td>\n",
       "      <td>0</td>\n",
       "    </tr>\n",
       "    <tr>\n",
       "      <th>3</th>\n",
       "      <td>3170382534</td>\n",
       "      <td>1.543305e+09</td>\n",
       "      <td>Agent</td>\n",
       "      <td>0</td>\n",
       "      <td>0</td>\n",
       "      <td>2021-07-07 18:54:21</td>\n",
       "      <td>CA</td>\n",
       "      <td>4</td>\n",
       "      <td>1</td>\n",
       "      <td>1.0</td>\n",
       "      <td>...</td>\n",
       "      <td>1</td>\n",
       "      <td>2021-07-07 18:59:25</td>\n",
       "      <td>1</td>\n",
       "      <td>2021-07-07 18:59:42</td>\n",
       "      <td>0</td>\n",
       "      <td>NaN</td>\n",
       "      <td>0</td>\n",
       "      <td>NaN</td>\n",
       "      <td>0</td>\n",
       "      <td>0</td>\n",
       "    </tr>\n",
       "    <tr>\n",
       "      <th>4</th>\n",
       "      <td>120154270</td>\n",
       "      <td>4.491867e+08</td>\n",
       "      <td>Agent</td>\n",
       "      <td>0</td>\n",
       "      <td>0</td>\n",
       "      <td>2022-10-01 22:06:39</td>\n",
       "      <td>CA</td>\n",
       "      <td>2</td>\n",
       "      <td>0</td>\n",
       "      <td>NaN</td>\n",
       "      <td>...</td>\n",
       "      <td>0</td>\n",
       "      <td>NaN</td>\n",
       "      <td>0</td>\n",
       "      <td>NaN</td>\n",
       "      <td>0</td>\n",
       "      <td>NaN</td>\n",
       "      <td>0</td>\n",
       "      <td>NaN</td>\n",
       "      <td>0</td>\n",
       "      <td>0</td>\n",
       "    </tr>\n",
       "  </tbody>\n",
       "</table>\n",
       "<p>5 rows × 21 columns</p>\n",
       "</div>"
      ],
      "text/plain": [
       "       UserId     CompanyId UserType  BreezeUser  IsDeleted  \\\n",
       "0  3992157255  3.024353e+09    Agent           0          0   \n",
       "1  1046555750  9.573933e+07  Auditor           0          0   \n",
       "2  3451135525           NaN      NaN           0          0   \n",
       "3  3170382534  1.543305e+09    Agent           0          0   \n",
       "4   120154270  4.491867e+08    Agent           0          0   \n",
       "\n",
       "             CreatedOn State  PrimeTransactions  PrimeListings  \\\n",
       "0   2021-05-08 2:19:25    TX                 25              5   \n",
       "1  2021-05-14 20:29:20    MI                  0              0   \n",
       "2  2021-08-03 16:24:21    CA                  0              0   \n",
       "3  2021-07-07 18:54:21    CA                  4              1   \n",
       "4  2022-10-01 22:06:39    CA                  2              0   \n",
       "\n",
       "   LibrariesAdded  ... FilesCreated     FirstFileCreated FormsAdded  \\\n",
       "0             1.0  ...            1   2021-05-08 2:21:17          0   \n",
       "1             1.0  ...            0                  NaN          0   \n",
       "2             NaN  ...            0                  NaN          0   \n",
       "3             1.0  ...            1  2021-07-07 18:59:25          1   \n",
       "4             NaN  ...            0                  NaN          0   \n",
       "\n",
       "        FirstFormAdded EnvelopesSent  FirstEnvelopeSent EnvelopesCompleted  \\\n",
       "0                  NaN             0                NaN                  0   \n",
       "1                  NaN             0                NaN                  0   \n",
       "2                  NaN             0                NaN                  0   \n",
       "3  2021-07-07 18:59:42             0                NaN                  0   \n",
       "4                  NaN             0                NaN                  0   \n",
       "\n",
       "   FirstEnvelopeCompleted EnvelopesSentLastMonth  EnvelopesSentPriorMonth  \n",
       "0                     NaN                      0                        0  \n",
       "1                     NaN                      0                        0  \n",
       "2                     NaN                      0                        0  \n",
       "3                     NaN                      0                        0  \n",
       "4                     NaN                      0                        0  \n",
       "\n",
       "[5 rows x 21 columns]"
      ]
     },
     "execution_count": 3,
     "metadata": {},
     "output_type": "execute_result"
    }
   ],
   "source": [
    "df.head()"
   ]
  },
  {
   "cell_type": "code",
   "execution_count": 4,
   "metadata": {},
   "outputs": [
    {
     "data": {
      "text/plain": [
       "(76842, 21)"
      ]
     },
     "execution_count": 4,
     "metadata": {},
     "output_type": "execute_result"
    }
   ],
   "source": [
    "df.shape"
   ]
  },
  {
   "cell_type": "code",
   "execution_count": 5,
   "metadata": {},
   "outputs": [
    {
     "name": "stdout",
     "output_type": "stream",
     "text": [
      "<class 'pandas.core.frame.DataFrame'>\n",
      "RangeIndex: 76842 entries, 0 to 76841\n",
      "Data columns (total 21 columns):\n",
      " #   Column                   Non-Null Count  Dtype  \n",
      "---  ------                   --------------  -----  \n",
      " 0   UserId                   76842 non-null  int64  \n",
      " 1   CompanyId                60051 non-null  float64\n",
      " 2   UserType                 59398 non-null  object \n",
      " 3   BreezeUser               76842 non-null  int64  \n",
      " 4   IsDeleted                76842 non-null  int64  \n",
      " 5   CreatedOn                76842 non-null  object \n",
      " 6   State                    76842 non-null  object \n",
      " 7   PrimeTransactions        76842 non-null  int64  \n",
      " 8   PrimeListings            76842 non-null  int64  \n",
      " 9   LibrariesAdded           40314 non-null  float64\n",
      " 10  LibraryNames             40314 non-null  object \n",
      " 11  FilesCreated             76842 non-null  int64  \n",
      " 12  FirstFileCreated         31848 non-null  object \n",
      " 13  FormsAdded               76842 non-null  int64  \n",
      " 14  FirstFormAdded           28515 non-null  object \n",
      " 15  EnvelopesSent            76842 non-null  int64  \n",
      " 16  FirstEnvelopeSent        19479 non-null  object \n",
      " 17  EnvelopesCompleted       76842 non-null  int64  \n",
      " 18  FirstEnvelopeCompleted   18205 non-null  object \n",
      " 19  EnvelopesSentLastMonth   76842 non-null  int64  \n",
      " 20  EnvelopesSentPriorMonth  76842 non-null  int64  \n",
      "dtypes: float64(2), int64(11), object(8)\n",
      "memory usage: 12.3+ MB\n"
     ]
    }
   ],
   "source": [
    "df.info()"
   ]
  },
  {
   "cell_type": "code",
   "execution_count": 6,
   "metadata": {},
   "outputs": [
    {
     "data": {
      "text/html": [
       "<div>\n",
       "<style scoped>\n",
       "    .dataframe tbody tr th:only-of-type {\n",
       "        vertical-align: middle;\n",
       "    }\n",
       "\n",
       "    .dataframe tbody tr th {\n",
       "        vertical-align: top;\n",
       "    }\n",
       "\n",
       "    .dataframe thead th {\n",
       "        text-align: right;\n",
       "    }\n",
       "</style>\n",
       "<table border=\"1\" class=\"dataframe\">\n",
       "  <thead>\n",
       "    <tr style=\"text-align: right;\">\n",
       "      <th></th>\n",
       "      <th>UserId</th>\n",
       "      <th>CompanyId</th>\n",
       "      <th>BreezeUser</th>\n",
       "      <th>IsDeleted</th>\n",
       "      <th>PrimeTransactions</th>\n",
       "      <th>PrimeListings</th>\n",
       "      <th>LibrariesAdded</th>\n",
       "      <th>FilesCreated</th>\n",
       "      <th>FormsAdded</th>\n",
       "      <th>EnvelopesSent</th>\n",
       "      <th>EnvelopesCompleted</th>\n",
       "      <th>EnvelopesSentLastMonth</th>\n",
       "      <th>EnvelopesSentPriorMonth</th>\n",
       "    </tr>\n",
       "  </thead>\n",
       "  <tbody>\n",
       "    <tr>\n",
       "      <th>count</th>\n",
       "      <td>7.684200e+04</td>\n",
       "      <td>6.005100e+04</td>\n",
       "      <td>76842.000000</td>\n",
       "      <td>76842.000000</td>\n",
       "      <td>76842.000000</td>\n",
       "      <td>76842.000000</td>\n",
       "      <td>40314.000000</td>\n",
       "      <td>76842.000000</td>\n",
       "      <td>76842.000000</td>\n",
       "      <td>76842.000000</td>\n",
       "      <td>76842.000000</td>\n",
       "      <td>76842.000000</td>\n",
       "      <td>76842.000000</td>\n",
       "    </tr>\n",
       "    <tr>\n",
       "      <th>mean</th>\n",
       "      <td>2.140734e+09</td>\n",
       "      <td>2.714145e+09</td>\n",
       "      <td>0.028721</td>\n",
       "      <td>0.064014</td>\n",
       "      <td>8.032274</td>\n",
       "      <td>4.059499</td>\n",
       "      <td>1.835715</td>\n",
       "      <td>4.032743</td>\n",
       "      <td>52.818901</td>\n",
       "      <td>11.496616</td>\n",
       "      <td>10.116317</td>\n",
       "      <td>0.572369</td>\n",
       "      <td>0.630671</td>\n",
       "    </tr>\n",
       "    <tr>\n",
       "      <th>std</th>\n",
       "      <td>1.239147e+09</td>\n",
       "      <td>1.261042e+09</td>\n",
       "      <td>0.167023</td>\n",
       "      <td>0.244780</td>\n",
       "      <td>21.034110</td>\n",
       "      <td>11.531613</td>\n",
       "      <td>1.640039</td>\n",
       "      <td>13.669874</td>\n",
       "      <td>211.617114</td>\n",
       "      <td>46.298803</td>\n",
       "      <td>41.659512</td>\n",
       "      <td>3.101666</td>\n",
       "      <td>3.346370</td>\n",
       "    </tr>\n",
       "    <tr>\n",
       "      <th>min</th>\n",
       "      <td>3.014700e+04</td>\n",
       "      <td>2.063067e+06</td>\n",
       "      <td>0.000000</td>\n",
       "      <td>0.000000</td>\n",
       "      <td>0.000000</td>\n",
       "      <td>0.000000</td>\n",
       "      <td>1.000000</td>\n",
       "      <td>0.000000</td>\n",
       "      <td>0.000000</td>\n",
       "      <td>0.000000</td>\n",
       "      <td>0.000000</td>\n",
       "      <td>0.000000</td>\n",
       "      <td>0.000000</td>\n",
       "    </tr>\n",
       "    <tr>\n",
       "      <th>25%</th>\n",
       "      <td>1.072132e+09</td>\n",
       "      <td>1.651909e+09</td>\n",
       "      <td>0.000000</td>\n",
       "      <td>0.000000</td>\n",
       "      <td>0.000000</td>\n",
       "      <td>0.000000</td>\n",
       "      <td>1.000000</td>\n",
       "      <td>0.000000</td>\n",
       "      <td>0.000000</td>\n",
       "      <td>0.000000</td>\n",
       "      <td>0.000000</td>\n",
       "      <td>0.000000</td>\n",
       "      <td>0.000000</td>\n",
       "    </tr>\n",
       "    <tr>\n",
       "      <th>50%</th>\n",
       "      <td>2.132875e+09</td>\n",
       "      <td>3.463081e+09</td>\n",
       "      <td>0.000000</td>\n",
       "      <td>0.000000</td>\n",
       "      <td>2.000000</td>\n",
       "      <td>1.000000</td>\n",
       "      <td>1.000000</td>\n",
       "      <td>0.000000</td>\n",
       "      <td>0.000000</td>\n",
       "      <td>0.000000</td>\n",
       "      <td>0.000000</td>\n",
       "      <td>0.000000</td>\n",
       "      <td>0.000000</td>\n",
       "    </tr>\n",
       "    <tr>\n",
       "      <th>75%</th>\n",
       "      <td>3.213369e+09</td>\n",
       "      <td>3.463081e+09</td>\n",
       "      <td>0.000000</td>\n",
       "      <td>0.000000</td>\n",
       "      <td>9.000000</td>\n",
       "      <td>4.000000</td>\n",
       "      <td>2.000000</td>\n",
       "      <td>2.000000</td>\n",
       "      <td>11.000000</td>\n",
       "      <td>1.000000</td>\n",
       "      <td>0.000000</td>\n",
       "      <td>0.000000</td>\n",
       "      <td>0.000000</td>\n",
       "    </tr>\n",
       "    <tr>\n",
       "      <th>max</th>\n",
       "      <td>4.294904e+09</td>\n",
       "      <td>4.291945e+09</td>\n",
       "      <td>1.000000</td>\n",
       "      <td>1.000000</td>\n",
       "      <td>1582.000000</td>\n",
       "      <td>581.000000</td>\n",
       "      <td>33.000000</td>\n",
       "      <td>766.000000</td>\n",
       "      <td>8736.000000</td>\n",
       "      <td>1631.000000</td>\n",
       "      <td>1505.000000</td>\n",
       "      <td>130.000000</td>\n",
       "      <td>123.000000</td>\n",
       "    </tr>\n",
       "  </tbody>\n",
       "</table>\n",
       "</div>"
      ],
      "text/plain": [
       "             UserId     CompanyId    BreezeUser     IsDeleted  \\\n",
       "count  7.684200e+04  6.005100e+04  76842.000000  76842.000000   \n",
       "mean   2.140734e+09  2.714145e+09      0.028721      0.064014   \n",
       "std    1.239147e+09  1.261042e+09      0.167023      0.244780   \n",
       "min    3.014700e+04  2.063067e+06      0.000000      0.000000   \n",
       "25%    1.072132e+09  1.651909e+09      0.000000      0.000000   \n",
       "50%    2.132875e+09  3.463081e+09      0.000000      0.000000   \n",
       "75%    3.213369e+09  3.463081e+09      0.000000      0.000000   \n",
       "max    4.294904e+09  4.291945e+09      1.000000      1.000000   \n",
       "\n",
       "       PrimeTransactions  PrimeListings  LibrariesAdded  FilesCreated  \\\n",
       "count       76842.000000   76842.000000    40314.000000  76842.000000   \n",
       "mean            8.032274       4.059499        1.835715      4.032743   \n",
       "std            21.034110      11.531613        1.640039     13.669874   \n",
       "min             0.000000       0.000000        1.000000      0.000000   \n",
       "25%             0.000000       0.000000        1.000000      0.000000   \n",
       "50%             2.000000       1.000000        1.000000      0.000000   \n",
       "75%             9.000000       4.000000        2.000000      2.000000   \n",
       "max          1582.000000     581.000000       33.000000    766.000000   \n",
       "\n",
       "         FormsAdded  EnvelopesSent  EnvelopesCompleted  \\\n",
       "count  76842.000000   76842.000000        76842.000000   \n",
       "mean      52.818901      11.496616           10.116317   \n",
       "std      211.617114      46.298803           41.659512   \n",
       "min        0.000000       0.000000            0.000000   \n",
       "25%        0.000000       0.000000            0.000000   \n",
       "50%        0.000000       0.000000            0.000000   \n",
       "75%       11.000000       1.000000            0.000000   \n",
       "max     8736.000000    1631.000000         1505.000000   \n",
       "\n",
       "       EnvelopesSentLastMonth  EnvelopesSentPriorMonth  \n",
       "count            76842.000000             76842.000000  \n",
       "mean                 0.572369                 0.630671  \n",
       "std                  3.101666                 3.346370  \n",
       "min                  0.000000                 0.000000  \n",
       "25%                  0.000000                 0.000000  \n",
       "50%                  0.000000                 0.000000  \n",
       "75%                  0.000000                 0.000000  \n",
       "max                130.000000               123.000000  "
      ]
     },
     "execution_count": 6,
     "metadata": {},
     "output_type": "execute_result"
    }
   ],
   "source": [
    "df.describe()"
   ]
  },
  {
   "cell_type": "code",
   "execution_count": 7,
   "metadata": {},
   "outputs": [
    {
     "data": {
      "text/plain": [
       "UserId                         0\n",
       "CompanyId                  16791\n",
       "UserType                   17444\n",
       "BreezeUser                     0\n",
       "IsDeleted                      0\n",
       "CreatedOn                      0\n",
       "State                          0\n",
       "PrimeTransactions              0\n",
       "PrimeListings                  0\n",
       "LibrariesAdded             36528\n",
       "LibraryNames               36528\n",
       "FilesCreated                   0\n",
       "FirstFileCreated           44994\n",
       "FormsAdded                     0\n",
       "FirstFormAdded             48327\n",
       "EnvelopesSent                  0\n",
       "FirstEnvelopeSent          57363\n",
       "EnvelopesCompleted             0\n",
       "FirstEnvelopeCompleted     58637\n",
       "EnvelopesSentLastMonth         0\n",
       "EnvelopesSentPriorMonth        0\n",
       "dtype: int64"
      ]
     },
     "execution_count": 7,
     "metadata": {},
     "output_type": "execute_result"
    }
   ],
   "source": [
    "df.isnull().sum()"
   ]
  },
  {
   "cell_type": "code",
   "execution_count": 8,
   "metadata": {},
   "outputs": [],
   "source": [
    "df['CompanyId'] = df['CompanyId'].fillna(0)"
   ]
  },
  {
   "cell_type": "code",
   "execution_count": 9,
   "metadata": {},
   "outputs": [
    {
     "data": {
      "text/plain": [
       "array(['Agent', 'Auditor', nan, 'Limited TC', 'Broker'], dtype=object)"
      ]
     },
     "execution_count": 9,
     "metadata": {},
     "output_type": "execute_result"
    }
   ],
   "source": [
    "df['UserType'].unique()"
   ]
  },
  {
   "cell_type": "code",
   "execution_count": 10,
   "metadata": {},
   "outputs": [],
   "source": [
    "df['UserType'] = df['UserType'].fillna('Not Specified')\n",
    "df['CompanyId'] = df['CompanyId'].fillna(0)\n",
    "df['LibrariesAdded'] = df['LibrariesAdded'].fillna(0)\n",
    "df['LibraryNames'] = df['LibraryNames'].fillna(\"\")"
   ]
  },
  {
   "cell_type": "code",
   "execution_count": 11,
   "metadata": {},
   "outputs": [
    {
     "data": {
      "text/plain": [
       "UserId                         0\n",
       "CompanyId                      0\n",
       "UserType                       0\n",
       "BreezeUser                     0\n",
       "IsDeleted                      0\n",
       "CreatedOn                      0\n",
       "State                          0\n",
       "PrimeTransactions              0\n",
       "PrimeListings                  0\n",
       "LibrariesAdded                 0\n",
       "LibraryNames                   0\n",
       "FilesCreated                   0\n",
       "FirstFileCreated           44994\n",
       "FormsAdded                     0\n",
       "FirstFormAdded             48327\n",
       "EnvelopesSent                  0\n",
       "FirstEnvelopeSent          57363\n",
       "EnvelopesCompleted             0\n",
       "FirstEnvelopeCompleted     58637\n",
       "EnvelopesSentLastMonth         0\n",
       "EnvelopesSentPriorMonth        0\n",
       "dtype: int64"
      ]
     },
     "execution_count": 11,
     "metadata": {},
     "output_type": "execute_result"
    }
   ],
   "source": [
    "df.isnull().sum()"
   ]
  },
  {
   "cell_type": "code",
   "execution_count": 12,
   "metadata": {},
   "outputs": [
    {
     "data": {
      "image/png": "[encoded data removed]",
      "text/plain": [
       "<Figure size 720x432 with 1 Axes>"
      ]
     },
     "metadata": {
      "needs_background": "light"
     },
     "output_type": "display_data"
    }
   ],
   "source": [
    "# Histogram for EnvelopesSentLastMonth\n",
    "plt.figure(figsize=(10,6))\n",
    "sns.histplot(df['EnvelopesSentLastMonth'], bins=30, kde=True)\n",
    "plt.title('Distribution of Envelopes Sent Last Month')\n",
    "plt.xlabel('Number of Envelopes Sent Last Month')\n",
    "plt.ylabel('Frequency')\n",
    "plt.show()"
   ]
  },
  {
   "cell_type": "code",
   "execution_count": 13,
   "metadata": {},
   "outputs": [
    {
     "data": {
      "text/plain": [
       "count    76842.000000\n",
       "mean         0.572369\n",
       "std          3.101666\n",
       "min          0.000000\n",
       "25%          0.000000\n",
       "50%          0.000000\n",
       "75%          0.000000\n",
       "max        130.000000\n",
       "Name: EnvelopesSentLastMonth, dtype: float64"
      ]
     },
     "execution_count": 13,
     "metadata": {},
     "output_type": "execute_result"
    }
   ],
   "source": [
    "df['EnvelopesSentLastMonth'].describe()"
   ]
  },
  {
   "cell_type": "code",
   "execution_count": 14,
   "metadata": {
    "scrolled": true
   },
   "outputs": [
    {
     "data": {
      "text/plain": [
       "69205    130\n",
       "51364    127\n",
       "25644    122\n",
       "44194     92\n",
       "18378     83\n",
       "Name: EnvelopesSentLastMonth, dtype: int64"
      ]
     },
     "execution_count": 14,
     "metadata": {},
     "output_type": "execute_result"
    }
   ],
   "source": [
    "df['EnvelopesSentLastMonth'].nlargest(n=5)"
   ]
  },
  {
   "cell_type": "code",
   "execution_count": 15,
   "metadata": {},
   "outputs": [
    {
     "data": {
      "text/html": [
       "<div>\n",
       "<style scoped>\n",
       "    .dataframe tbody tr th:only-of-type {\n",
       "        vertical-align: middle;\n",
       "    }\n",
       "\n",
       "    .dataframe tbody tr th {\n",
       "        vertical-align: top;\n",
       "    }\n",
       "\n",
       "    .dataframe thead th {\n",
       "        text-align: right;\n",
       "    }\n",
       "</style>\n",
       "<table border=\"1\" class=\"dataframe\">\n",
       "  <thead>\n",
       "    <tr style=\"text-align: right;\">\n",
       "      <th></th>\n",
       "      <th>UserId</th>\n",
       "      <th>CompanyId</th>\n",
       "      <th>UserType</th>\n",
       "      <th>BreezeUser</th>\n",
       "      <th>IsDeleted</th>\n",
       "      <th>CreatedOn</th>\n",
       "      <th>State</th>\n",
       "      <th>PrimeTransactions</th>\n",
       "      <th>PrimeListings</th>\n",
       "      <th>LibrariesAdded</th>\n",
       "      <th>...</th>\n",
       "      <th>FilesCreated</th>\n",
       "      <th>FirstFileCreated</th>\n",
       "      <th>FormsAdded</th>\n",
       "      <th>FirstFormAdded</th>\n",
       "      <th>EnvelopesSent</th>\n",
       "      <th>FirstEnvelopeSent</th>\n",
       "      <th>EnvelopesCompleted</th>\n",
       "      <th>FirstEnvelopeCompleted</th>\n",
       "      <th>EnvelopesSentLastMonth</th>\n",
       "      <th>EnvelopesSentPriorMonth</th>\n",
       "    </tr>\n",
       "  </thead>\n",
       "  <tbody>\n",
       "    <tr>\n",
       "      <th>69205</th>\n",
       "      <td>3859453467</td>\n",
       "      <td>3.463081e+09</td>\n",
       "      <td>Agent</td>\n",
       "      <td>0</td>\n",
       "      <td>0</td>\n",
       "      <td>2021-10-18 18:02:48</td>\n",
       "      <td>AZ</td>\n",
       "      <td>467</td>\n",
       "      <td>282</td>\n",
       "      <td>2.0</td>\n",
       "      <td>...</td>\n",
       "      <td>211</td>\n",
       "      <td>2021-10-18 19:54:34</td>\n",
       "      <td>1943</td>\n",
       "      <td>2021-10-18 19:56:11</td>\n",
       "      <td>1055</td>\n",
       "      <td>2021-10-18 23:50:35</td>\n",
       "      <td>948</td>\n",
       "      <td>2021-10-18 23:50:35</td>\n",
       "      <td>130</td>\n",
       "      <td>80</td>\n",
       "    </tr>\n",
       "  </tbody>\n",
       "</table>\n",
       "<p>1 rows × 21 columns</p>\n",
       "</div>"
      ],
      "text/plain": [
       "           UserId     CompanyId UserType  BreezeUser  IsDeleted  \\\n",
       "69205  3859453467  3.463081e+09    Agent           0          0   \n",
       "\n",
       "                 CreatedOn State  PrimeTransactions  PrimeListings  \\\n",
       "69205  2021-10-18 18:02:48    AZ                467            282   \n",
       "\n",
       "       LibrariesAdded  ... FilesCreated     FirstFileCreated FormsAdded  \\\n",
       "69205             2.0  ...          211  2021-10-18 19:54:34       1943   \n",
       "\n",
       "            FirstFormAdded EnvelopesSent    FirstEnvelopeSent  \\\n",
       "69205  2021-10-18 19:56:11          1055  2021-10-18 23:50:35   \n",
       "\n",
       "      EnvelopesCompleted  FirstEnvelopeCompleted EnvelopesSentLastMonth  \\\n",
       "69205                948     2021-10-18 23:50:35                    130   \n",
       "\n",
       "       EnvelopesSentPriorMonth  \n",
       "69205                       80  \n",
       "\n",
       "[1 rows x 21 columns]"
      ]
     },
     "execution_count": 15,
     "metadata": {},
     "output_type": "execute_result"
    }
   ],
   "source": [
    "df.loc[df['EnvelopesSentLastMonth'] == 130]"
   ]
  },
  {
   "cell_type": "code",
   "execution_count": 16,
   "metadata": {},
   "outputs": [
    {
     "data": {
      "image/png": "[encoded data removed]",
      "text/plain": [
       "<Figure size 720x432 with 1 Axes>"
      ]
     },
     "metadata": {
      "needs_background": "light"
     },
     "output_type": "display_data"
    }
   ],
   "source": [
    "# Histogram for EnvelopesSentPriorMonth\n",
    "plt.figure(figsize=(10,6))\n",
    "sns.histplot(df['EnvelopesSentPriorMonth'], bins=30, kde=True)\n",
    "plt.title('Distribution of Envelopes Sent Two Months Ago')\n",
    "plt.xlabel('Number of Envelopes Sent Two Months Ago')\n",
    "plt.ylabel('Frequency')\n",
    "plt.show()"
   ]
  },
  {
   "cell_type": "code",
   "execution_count": 17,
   "metadata": {},
   "outputs": [
    {
     "data": {
      "text/plain": [
       "123"
      ]
     },
     "execution_count": 17,
     "metadata": {},
     "output_type": "execute_result"
    }
   ],
   "source": [
    "df['EnvelopesSentPriorMonth'].max()"
   ]
  },
  {
   "cell_type": "code",
   "execution_count": 18,
   "metadata": {},
   "outputs": [
    {
     "data": {
      "text/plain": [
       "count    76842.000000\n",
       "mean         0.630671\n",
       "std          3.346370\n",
       "min          0.000000\n",
       "25%          0.000000\n",
       "50%          0.000000\n",
       "75%          0.000000\n",
       "max        123.000000\n",
       "Name: EnvelopesSentPriorMonth, dtype: float64"
      ]
     },
     "execution_count": 18,
     "metadata": {},
     "output_type": "execute_result"
    }
   ],
   "source": [
    "df['EnvelopesSentPriorMonth'].describe()"
   ]
  },
  {
   "cell_type": "code",
   "execution_count": 19,
   "metadata": {},
   "outputs": [
    {
     "data": {
      "text/plain": [
       "51364    123\n",
       "44194    102\n",
       "18378     96\n",
       "25911     92\n",
       "58199     89\n",
       "70301     87\n",
       "27669     81\n",
       "69205     80\n",
       "61573     76\n",
       "28715     75\n",
       "Name: EnvelopesSentPriorMonth, dtype: int64"
      ]
     },
     "execution_count": 19,
     "metadata": {},
     "output_type": "execute_result"
    }
   ],
   "source": [
    "df['EnvelopesSentPriorMonth'].nlargest(n=10)"
   ]
  },
  {
   "cell_type": "code",
   "execution_count": 20,
   "metadata": {},
   "outputs": [
    {
     "data": {
      "text/html": [
       "<div>\n",
       "<style scoped>\n",
       "    .dataframe tbody tr th:only-of-type {\n",
       "        vertical-align: middle;\n",
       "    }\n",
       "\n",
       "    .dataframe tbody tr th {\n",
       "        vertical-align: top;\n",
       "    }\n",
       "\n",
       "    .dataframe thead th {\n",
       "        text-align: right;\n",
       "    }\n",
       "</style>\n",
       "<table border=\"1\" class=\"dataframe\">\n",
       "  <thead>\n",
       "    <tr style=\"text-align: right;\">\n",
       "      <th></th>\n",
       "      <th>UserId</th>\n",
       "      <th>CompanyId</th>\n",
       "      <th>UserType</th>\n",
       "      <th>BreezeUser</th>\n",
       "      <th>IsDeleted</th>\n",
       "      <th>CreatedOn</th>\n",
       "      <th>State</th>\n",
       "      <th>PrimeTransactions</th>\n",
       "      <th>PrimeListings</th>\n",
       "      <th>LibrariesAdded</th>\n",
       "      <th>...</th>\n",
       "      <th>FilesCreated</th>\n",
       "      <th>FirstFileCreated</th>\n",
       "      <th>FormsAdded</th>\n",
       "      <th>FirstFormAdded</th>\n",
       "      <th>EnvelopesSent</th>\n",
       "      <th>FirstEnvelopeSent</th>\n",
       "      <th>EnvelopesCompleted</th>\n",
       "      <th>FirstEnvelopeCompleted</th>\n",
       "      <th>EnvelopesSentLastMonth</th>\n",
       "      <th>EnvelopesSentPriorMonth</th>\n",
       "    </tr>\n",
       "  </thead>\n",
       "  <tbody>\n",
       "    <tr>\n",
       "      <th>51364</th>\n",
       "      <td>1293540428</td>\n",
       "      <td>3.463081e+09</td>\n",
       "      <td>Agent</td>\n",
       "      <td>1</td>\n",
       "      <td>0</td>\n",
       "      <td>2021-07-04 22:16:35</td>\n",
       "      <td>OR</td>\n",
       "      <td>354</td>\n",
       "      <td>223</td>\n",
       "      <td>2.0</td>\n",
       "      <td>...</td>\n",
       "      <td>137</td>\n",
       "      <td>2022-07-15 21:23:31</td>\n",
       "      <td>2194</td>\n",
       "      <td>2022-07-07 3:22:21</td>\n",
       "      <td>317</td>\n",
       "      <td>2022-07-26 19:29:26</td>\n",
       "      <td>284</td>\n",
       "      <td>2022-07-26 19:29:26</td>\n",
       "      <td>127</td>\n",
       "      <td>123</td>\n",
       "    </tr>\n",
       "  </tbody>\n",
       "</table>\n",
       "<p>1 rows × 21 columns</p>\n",
       "</div>"
      ],
      "text/plain": [
       "           UserId     CompanyId UserType  BreezeUser  IsDeleted  \\\n",
       "51364  1293540428  3.463081e+09    Agent           1          0   \n",
       "\n",
       "                 CreatedOn State  PrimeTransactions  PrimeListings  \\\n",
       "51364  2021-07-04 22:16:35    OR                354            223   \n",
       "\n",
       "       LibrariesAdded  ... FilesCreated     FirstFileCreated FormsAdded  \\\n",
       "51364             2.0  ...          137  2022-07-15 21:23:31       2194   \n",
       "\n",
       "           FirstFormAdded EnvelopesSent    FirstEnvelopeSent  \\\n",
       "51364  2022-07-07 3:22:21           317  2022-07-26 19:29:26   \n",
       "\n",
       "      EnvelopesCompleted  FirstEnvelopeCompleted EnvelopesSentLastMonth  \\\n",
       "51364                284     2022-07-26 19:29:26                    127   \n",
       "\n",
       "       EnvelopesSentPriorMonth  \n",
       "51364                      123  \n",
       "\n",
       "[1 rows x 21 columns]"
      ]
     },
     "execution_count": 20,
     "metadata": {},
     "output_type": "execute_result"
    }
   ],
   "source": [
    "df.loc[df['EnvelopesSentPriorMonth'] == 123]"
   ]
  },
  {
   "cell_type": "code",
   "execution_count": 21,
   "metadata": {},
   "outputs": [],
   "source": [
    "# turning state data into list\n",
    "df['State'] = df['State'].str.split(',')\n",
    "df_exploded = df.explode('State').reset_index(drop=True)"
   ]
  },
  {
   "cell_type": "code",
   "execution_count": 22,
   "metadata": {},
   "outputs": [],
   "source": [
    "states_split = df['State'].str.get_dummies(sep=',')\n",
    "df = pd.concat([df, states_split], axis=1)"
   ]
  },
  {
   "cell_type": "code",
   "execution_count": 23,
   "metadata": {},
   "outputs": [],
   "source": [
    "df['Number_of_States'] = df['State'].apply(len)"
   ]
  },
  {
   "cell_type": "code",
   "execution_count": 24,
   "metadata": {},
   "outputs": [
    {
     "data": {
      "text/html": [
       "<div>\n",
       "<style scoped>\n",
       "    .dataframe tbody tr th:only-of-type {\n",
       "        vertical-align: middle;\n",
       "    }\n",
       "\n",
       "    .dataframe tbody tr th {\n",
       "        vertical-align: top;\n",
       "    }\n",
       "\n",
       "    .dataframe thead th {\n",
       "        text-align: right;\n",
       "    }\n",
       "</style>\n",
       "<table border=\"1\" class=\"dataframe\">\n",
       "  <thead>\n",
       "    <tr style=\"text-align: right;\">\n",
       "      <th></th>\n",
       "      <th>UserId</th>\n",
       "      <th>CompanyId</th>\n",
       "      <th>UserType</th>\n",
       "      <th>BreezeUser</th>\n",
       "      <th>IsDeleted</th>\n",
       "      <th>CreatedOn</th>\n",
       "      <th>State</th>\n",
       "      <th>PrimeTransactions</th>\n",
       "      <th>PrimeListings</th>\n",
       "      <th>LibrariesAdded</th>\n",
       "      <th>...</th>\n",
       "      <th>['UT']</th>\n",
       "      <th>['VA'</th>\n",
       "      <th>['VA']</th>\n",
       "      <th>['VT']</th>\n",
       "      <th>['WA'</th>\n",
       "      <th>['WA']</th>\n",
       "      <th>['WI']</th>\n",
       "      <th>['WV']</th>\n",
       "      <th>['WY']</th>\n",
       "      <th>Number_of_States</th>\n",
       "    </tr>\n",
       "  </thead>\n",
       "  <tbody>\n",
       "    <tr>\n",
       "      <th>0</th>\n",
       "      <td>3992157255</td>\n",
       "      <td>3.024353e+09</td>\n",
       "      <td>Agent</td>\n",
       "      <td>0</td>\n",
       "      <td>0</td>\n",
       "      <td>2021-05-08 2:19:25</td>\n",
       "      <td>[TX]</td>\n",
       "      <td>25</td>\n",
       "      <td>5</td>\n",
       "      <td>1.0</td>\n",
       "      <td>...</td>\n",
       "      <td>0</td>\n",
       "      <td>0</td>\n",
       "      <td>0</td>\n",
       "      <td>0</td>\n",
       "      <td>0</td>\n",
       "      <td>0</td>\n",
       "      <td>0</td>\n",
       "      <td>0</td>\n",
       "      <td>0</td>\n",
       "      <td>1</td>\n",
       "    </tr>\n",
       "    <tr>\n",
       "      <th>1</th>\n",
       "      <td>1046555750</td>\n",
       "      <td>9.573933e+07</td>\n",
       "      <td>Auditor</td>\n",
       "      <td>0</td>\n",
       "      <td>0</td>\n",
       "      <td>2021-05-14 20:29:20</td>\n",
       "      <td>[MI]</td>\n",
       "      <td>0</td>\n",
       "      <td>0</td>\n",
       "      <td>1.0</td>\n",
       "      <td>...</td>\n",
       "      <td>0</td>\n",
       "      <td>0</td>\n",
       "      <td>0</td>\n",
       "      <td>0</td>\n",
       "      <td>0</td>\n",
       "      <td>0</td>\n",
       "      <td>0</td>\n",
       "      <td>0</td>\n",
       "      <td>0</td>\n",
       "      <td>1</td>\n",
       "    </tr>\n",
       "    <tr>\n",
       "      <th>2</th>\n",
       "      <td>3451135525</td>\n",
       "      <td>0.000000e+00</td>\n",
       "      <td>Not Specified</td>\n",
       "      <td>0</td>\n",
       "      <td>0</td>\n",
       "      <td>2021-08-03 16:24:21</td>\n",
       "      <td>[CA]</td>\n",
       "      <td>0</td>\n",
       "      <td>0</td>\n",
       "      <td>0.0</td>\n",
       "      <td>...</td>\n",
       "      <td>0</td>\n",
       "      <td>0</td>\n",
       "      <td>0</td>\n",
       "      <td>0</td>\n",
       "      <td>0</td>\n",
       "      <td>0</td>\n",
       "      <td>0</td>\n",
       "      <td>0</td>\n",
       "      <td>0</td>\n",
       "      <td>1</td>\n",
       "    </tr>\n",
       "    <tr>\n",
       "      <th>3</th>\n",
       "      <td>3170382534</td>\n",
       "      <td>1.543305e+09</td>\n",
       "      <td>Agent</td>\n",
       "      <td>0</td>\n",
       "      <td>0</td>\n",
       "      <td>2021-07-07 18:54:21</td>\n",
       "      <td>[CA]</td>\n",
       "      <td>4</td>\n",
       "      <td>1</td>\n",
       "      <td>1.0</td>\n",
       "      <td>...</td>\n",
       "      <td>0</td>\n",
       "      <td>0</td>\n",
       "      <td>0</td>\n",
       "      <td>0</td>\n",
       "      <td>0</td>\n",
       "      <td>0</td>\n",
       "      <td>0</td>\n",
       "      <td>0</td>\n",
       "      <td>0</td>\n",
       "      <td>1</td>\n",
       "    </tr>\n",
       "    <tr>\n",
       "      <th>4</th>\n",
       "      <td>120154270</td>\n",
       "      <td>4.491867e+08</td>\n",
       "      <td>Agent</td>\n",
       "      <td>0</td>\n",
       "      <td>0</td>\n",
       "      <td>2022-10-01 22:06:39</td>\n",
       "      <td>[CA]</td>\n",
       "      <td>2</td>\n",
       "      <td>0</td>\n",
       "      <td>0.0</td>\n",
       "      <td>...</td>\n",
       "      <td>0</td>\n",
       "      <td>0</td>\n",
       "      <td>0</td>\n",
       "      <td>0</td>\n",
       "      <td>0</td>\n",
       "      <td>0</td>\n",
       "      <td>0</td>\n",
       "      <td>0</td>\n",
       "      <td>0</td>\n",
       "      <td>1</td>\n",
       "    </tr>\n",
       "  </tbody>\n",
       "</table>\n",
       "<p>5 rows × 162 columns</p>\n",
       "</div>"
      ],
      "text/plain": [
       "       UserId     CompanyId       UserType  BreezeUser  IsDeleted  \\\n",
       "0  3992157255  3.024353e+09          Agent           0          0   \n",
       "1  1046555750  9.573933e+07        Auditor           0          0   \n",
       "2  3451135525  0.000000e+00  Not Specified           0          0   \n",
       "3  3170382534  1.543305e+09          Agent           0          0   \n",
       "4   120154270  4.491867e+08          Agent           0          0   \n",
       "\n",
       "             CreatedOn State  PrimeTransactions  PrimeListings  \\\n",
       "0   2021-05-08 2:19:25  [TX]                 25              5   \n",
       "1  2021-05-14 20:29:20  [MI]                  0              0   \n",
       "2  2021-08-03 16:24:21  [CA]                  0              0   \n",
       "3  2021-07-07 18:54:21  [CA]                  4              1   \n",
       "4  2022-10-01 22:06:39  [CA]                  2              0   \n",
       "\n",
       "   LibrariesAdded  ... ['UT']  ['VA' ['VA']  ['VT'] ['WA'  ['WA'] ['WI']  \\\n",
       "0             1.0  ...      0      0      0       0     0       0      0   \n",
       "1             1.0  ...      0      0      0       0     0       0      0   \n",
       "2             0.0  ...      0      0      0       0     0       0      0   \n",
       "3             1.0  ...      0      0      0       0     0       0      0   \n",
       "4             0.0  ...      0      0      0       0     0       0      0   \n",
       "\n",
       "   ['WV'] ['WY']  Number_of_States  \n",
       "0       0      0                 1  \n",
       "1       0      0                 1  \n",
       "2       0      0                 1  \n",
       "3       0      0                 1  \n",
       "4       0      0                 1  \n",
       "\n",
       "[5 rows x 162 columns]"
      ]
     },
     "execution_count": 24,
     "metadata": {},
     "output_type": "execute_result"
    }
   ],
   "source": [
    "df.head()"
   ]
  },
  {
   "cell_type": "code",
   "execution_count": 25,
   "metadata": {},
   "outputs": [
    {
     "data": {
      "image/png": "[encoded data removed]",
      "text/plain": [
       "<Figure size 1008x576 with 1 Axes>"
      ]
     },
     "metadata": {
      "needs_background": "light"
     },
     "output_type": "display_data"
    }
   ],
   "source": [
    "plt.figure(figsize=(14,8))\n",
    "sns.boxplot(x='State', y='EnvelopesSentLastMonth', data=df_exploded)\n",
    "plt.title('Distribution of Envelopes Sent Last Month by State')\n",
    "plt.xlabel('State')\n",
    "plt.ylabel('Number of Envelopes Sent Last Month')\n",
    "plt.xticks(rotation=45)\n",
    "plt.show()"
   ]
  },
  {
   "cell_type": "markdown",
   "metadata": {},
   "source": [
    "## Build a Model to Determine Variables Impacting Habit Formation\n",
    "habit formation is sending 3 or more envelopes in each of the last 2 months<br>\n",
    "binary column Habit_Formed where:<br>\n",
    "1 indicates habit formed (if both EnvelopesSentLastMonth and EnvelopesSentPriorMonth are >= 3)<br>\n",
    "0 indicates no habit formed"
   ]
  },
  {
   "cell_type": "code",
   "execution_count": 26,
   "metadata": {},
   "outputs": [
    {
     "data": {
      "text/html": [
       "<div>\n",
       "<style scoped>\n",
       "    .dataframe tbody tr th:only-of-type {\n",
       "        vertical-align: middle;\n",
       "    }\n",
       "\n",
       "    .dataframe tbody tr th {\n",
       "        vertical-align: top;\n",
       "    }\n",
       "\n",
       "    .dataframe thead th {\n",
       "        text-align: right;\n",
       "    }\n",
       "</style>\n",
       "<table border=\"1\" class=\"dataframe\">\n",
       "  <thead>\n",
       "    <tr style=\"text-align: right;\">\n",
       "      <th></th>\n",
       "      <th>UserId</th>\n",
       "      <th>CompanyId</th>\n",
       "      <th>UserType</th>\n",
       "      <th>BreezeUser</th>\n",
       "      <th>IsDeleted</th>\n",
       "      <th>CreatedOn</th>\n",
       "      <th>State</th>\n",
       "      <th>PrimeTransactions</th>\n",
       "      <th>PrimeListings</th>\n",
       "      <th>LibrariesAdded</th>\n",
       "      <th>...</th>\n",
       "      <th>FilesCreated</th>\n",
       "      <th>FirstFileCreated</th>\n",
       "      <th>FormsAdded</th>\n",
       "      <th>FirstFormAdded</th>\n",
       "      <th>EnvelopesSent</th>\n",
       "      <th>FirstEnvelopeSent</th>\n",
       "      <th>EnvelopesCompleted</th>\n",
       "      <th>FirstEnvelopeCompleted</th>\n",
       "      <th>EnvelopesSentLastMonth</th>\n",
       "      <th>EnvelopesSentPriorMonth</th>\n",
       "    </tr>\n",
       "  </thead>\n",
       "  <tbody>\n",
       "    <tr>\n",
       "      <th>0</th>\n",
       "      <td>3992157255</td>\n",
       "      <td>3.024353e+09</td>\n",
       "      <td>Agent</td>\n",
       "      <td>0</td>\n",
       "      <td>0</td>\n",
       "      <td>2021-05-08 2:19:25</td>\n",
       "      <td>TX</td>\n",
       "      <td>25</td>\n",
       "      <td>5</td>\n",
       "      <td>1.0</td>\n",
       "      <td>...</td>\n",
       "      <td>1</td>\n",
       "      <td>2021-05-08 2:21:17</td>\n",
       "      <td>0</td>\n",
       "      <td>NaN</td>\n",
       "      <td>0</td>\n",
       "      <td>NaN</td>\n",
       "      <td>0</td>\n",
       "      <td>NaN</td>\n",
       "      <td>0</td>\n",
       "      <td>0</td>\n",
       "    </tr>\n",
       "    <tr>\n",
       "      <th>1</th>\n",
       "      <td>1046555750</td>\n",
       "      <td>9.573933e+07</td>\n",
       "      <td>Auditor</td>\n",
       "      <td>0</td>\n",
       "      <td>0</td>\n",
       "      <td>2021-05-14 20:29:20</td>\n",
       "      <td>MI</td>\n",
       "      <td>0</td>\n",
       "      <td>0</td>\n",
       "      <td>1.0</td>\n",
       "      <td>...</td>\n",
       "      <td>0</td>\n",
       "      <td>NaN</td>\n",
       "      <td>0</td>\n",
       "      <td>NaN</td>\n",
       "      <td>0</td>\n",
       "      <td>NaN</td>\n",
       "      <td>0</td>\n",
       "      <td>NaN</td>\n",
       "      <td>0</td>\n",
       "      <td>0</td>\n",
       "    </tr>\n",
       "    <tr>\n",
       "      <th>2</th>\n",
       "      <td>3451135525</td>\n",
       "      <td>0.000000e+00</td>\n",
       "      <td>Not Specified</td>\n",
       "      <td>0</td>\n",
       "      <td>0</td>\n",
       "      <td>2021-08-03 16:24:21</td>\n",
       "      <td>CA</td>\n",
       "      <td>0</td>\n",
       "      <td>0</td>\n",
       "      <td>0.0</td>\n",
       "      <td>...</td>\n",
       "      <td>0</td>\n",
       "      <td>NaN</td>\n",
       "      <td>0</td>\n",
       "      <td>NaN</td>\n",
       "      <td>0</td>\n",
       "      <td>NaN</td>\n",
       "      <td>0</td>\n",
       "      <td>NaN</td>\n",
       "      <td>0</td>\n",
       "      <td>0</td>\n",
       "    </tr>\n",
       "    <tr>\n",
       "      <th>3</th>\n",
       "      <td>3170382534</td>\n",
       "      <td>1.543305e+09</td>\n",
       "      <td>Agent</td>\n",
       "      <td>0</td>\n",
       "      <td>0</td>\n",
       "      <td>2021-07-07 18:54:21</td>\n",
       "      <td>CA</td>\n",
       "      <td>4</td>\n",
       "      <td>1</td>\n",
       "      <td>1.0</td>\n",
       "      <td>...</td>\n",
       "      <td>1</td>\n",
       "      <td>2021-07-07 18:59:25</td>\n",
       "      <td>1</td>\n",
       "      <td>2021-07-07 18:59:42</td>\n",
       "      <td>0</td>\n",
       "      <td>NaN</td>\n",
       "      <td>0</td>\n",
       "      <td>NaN</td>\n",
       "      <td>0</td>\n",
       "      <td>0</td>\n",
       "    </tr>\n",
       "    <tr>\n",
       "      <th>4</th>\n",
       "      <td>120154270</td>\n",
       "      <td>4.491867e+08</td>\n",
       "      <td>Agent</td>\n",
       "      <td>0</td>\n",
       "      <td>0</td>\n",
       "      <td>2022-10-01 22:06:39</td>\n",
       "      <td>CA</td>\n",
       "      <td>2</td>\n",
       "      <td>0</td>\n",
       "      <td>0.0</td>\n",
       "      <td>...</td>\n",
       "      <td>0</td>\n",
       "      <td>NaN</td>\n",
       "      <td>0</td>\n",
       "      <td>NaN</td>\n",
       "      <td>0</td>\n",
       "      <td>NaN</td>\n",
       "      <td>0</td>\n",
       "      <td>NaN</td>\n",
       "      <td>0</td>\n",
       "      <td>0</td>\n",
       "    </tr>\n",
       "  </tbody>\n",
       "</table>\n",
       "<p>5 rows × 21 columns</p>\n",
       "</div>"
      ],
      "text/plain": [
       "       UserId     CompanyId       UserType  BreezeUser  IsDeleted  \\\n",
       "0  3992157255  3.024353e+09          Agent           0          0   \n",
       "1  1046555750  9.573933e+07        Auditor           0          0   \n",
       "2  3451135525  0.000000e+00  Not Specified           0          0   \n",
       "3  3170382534  1.543305e+09          Agent           0          0   \n",
       "4   120154270  4.491867e+08          Agent           0          0   \n",
       "\n",
       "             CreatedOn State  PrimeTransactions  PrimeListings  \\\n",
       "0   2021-05-08 2:19:25    TX                 25              5   \n",
       "1  2021-05-14 20:29:20    MI                  0              0   \n",
       "2  2021-08-03 16:24:21    CA                  0              0   \n",
       "3  2021-07-07 18:54:21    CA                  4              1   \n",
       "4  2022-10-01 22:06:39    CA                  2              0   \n",
       "\n",
       "   LibrariesAdded  ... FilesCreated     FirstFileCreated FormsAdded  \\\n",
       "0             1.0  ...            1   2021-05-08 2:21:17          0   \n",
       "1             1.0  ...            0                  NaN          0   \n",
       "2             0.0  ...            0                  NaN          0   \n",
       "3             1.0  ...            1  2021-07-07 18:59:25          1   \n",
       "4             0.0  ...            0                  NaN          0   \n",
       "\n",
       "        FirstFormAdded EnvelopesSent  FirstEnvelopeSent EnvelopesCompleted  \\\n",
       "0                  NaN             0                NaN                  0   \n",
       "1                  NaN             0                NaN                  0   \n",
       "2                  NaN             0                NaN                  0   \n",
       "3  2021-07-07 18:59:42             0                NaN                  0   \n",
       "4                  NaN             0                NaN                  0   \n",
       "\n",
       "   FirstEnvelopeCompleted EnvelopesSentLastMonth  EnvelopesSentPriorMonth  \n",
       "0                     NaN                      0                        0  \n",
       "1                     NaN                      0                        0  \n",
       "2                     NaN                      0                        0  \n",
       "3                     NaN                      0                        0  \n",
       "4                     NaN                      0                        0  \n",
       "\n",
       "[5 rows x 21 columns]"
      ]
     },
     "execution_count": 26,
     "metadata": {},
     "output_type": "execute_result"
    }
   ],
   "source": [
    "df_exploded.head()"
   ]
  },
  {
   "cell_type": "code",
   "execution_count": 27,
   "metadata": {},
   "outputs": [],
   "source": [
    "df_exploded['Habit_Formed'] = (df_exploded['EnvelopesSentLastMonth'] >= 3) & (df_exploded['EnvelopesSentPriorMonth'] >= 3)\n",
    "df_exploded['Habit_Formed'] = df_exploded['Habit_Formed'].astype(int)"
   ]
  },
  {
   "cell_type": "markdown",
   "metadata": {},
   "source": [
    "Potential predictors:\n",
    "\n",
    "- UserType<br>\n",
    "- BreezeUser<br>\n",
    "- DTMTransactions<br>\n",
    "- DTMListings<br>\n",
    "- LibrariesAdded<br>\n",
    "- FilesCreated<br>\n",
    "- FormsAdded<br>\n",
    "- State (after it's exploded)<br>"
   ]
  },
  {
   "cell_type": "code",
   "execution_count": 29,
   "metadata": {},
   "outputs": [
    {
     "name": "stderr",
     "output_type": "stream",
     "text": [
      "C:\\Users\\Kyle\\anaconda3\\lib\\site-packages\\sklearn\\preprocessing\\_encoders.py:972: FutureWarning: `sparse` was renamed to `sparse_output` in version 1.2 and will be removed in 1.4. `sparse_output` is ignored unless you leave `sparse` to its default value.\n",
      "  warnings.warn(\n"
     ]
    }
   ],
   "source": [
    "from sklearn.preprocessing import OneHotEncoder\n",
    "\n",
    "encoder = OneHotEncoder(drop='first', sparse=False)\n",
    "\n",
    "# One-hot encoding UserType and State columns\n",
    "encoded_features = encoder.fit_transform(df_exploded[['UserType', 'State']])\n",
    "encoded_df = pd.DataFrame(encoded_features, columns=encoder.get_feature_names_out(['UserType', 'State']))\n",
    "\n",
    "# Concatenate original dataframe with encoded dataframe\n",
    "df_encoded = pd.concat([df_exploded.reset_index(drop=True), encoded_df.reset_index(drop=True)], axis=1)"
   ]
  },
  {
   "cell_type": "code",
   "execution_count": 32,
   "metadata": {},
   "outputs": [
    {
     "name": "stdout",
     "output_type": "stream",
     "text": [
      "              precision    recall  f1-score   support\n",
      "\n",
      "           0       0.97      0.99      0.98     24981\n",
      "           1       0.71      0.39      0.50      1346\n",
      "\n",
      "    accuracy                           0.96     26327\n",
      "   macro avg       0.84      0.69      0.74     26327\n",
      "weighted avg       0.95      0.96      0.95     26327\n",
      "\n"
     ]
    },
    {
     "name": "stderr",
     "output_type": "stream",
     "text": [
      "C:\\Users\\Kyle\\anaconda3\\lib\\site-packages\\sklearn\\linear_model\\_logistic.py:460: ConvergenceWarning: lbfgs failed to converge (status=1):\n",
      "STOP: TOTAL NO. of ITERATIONS REACHED LIMIT.\n",
      "\n",
      "Increase the number of iterations (max_iter) or scale the data as shown in:\n",
      "    https://scikit-learn.org/stable/modules/preprocessing.html\n",
      "Please also refer to the documentation for alternative solver options:\n",
      "    https://scikit-learn.org/stable/modules/linear_model.html#logistic-regression\n",
      "  n_iter_i = _check_optimize_result(\n"
     ]
    }
   ],
   "source": [
    "from sklearn.linear_model import LogisticRegression\n",
    "from sklearn.model_selection import train_test_split\n",
    "from sklearn.metrics import classification_report, accuracy_score\n",
    "\n",
    "# Features and Target\n",
    "features = ['BreezeUser', 'PrimeTransactions', 'PrimeListings', 'LibrariesAdded', 'FilesCreated', 'FormsAdded'] + list(encoded_df.columns)\n",
    "X = df_encoded[features]\n",
    "y = df_encoded['Habit_Formed']\n",
    "\n",
    "# Splitting the data into training and testing sets\n",
    "X_train, X_test, y_train, y_test = train_test_split(X, y, test_size=0.3, random_state=42)\n",
    "\n",
    "# Initialize and fit the model\n",
    "logreg = LogisticRegression(max_iter=1000)  # max_iter increased for convergence\n",
    "logreg.fit(X_train, y_train)\n",
    "\n",
    "# Predict and evaluate\n",
    "y_pred = logreg.predict(X_test)\n",
    "print(classification_report(y_test, y_pred))"
   ]
  },
  {
   "cell_type": "code",
   "execution_count": 41,
   "metadata": {},
   "outputs": [
    {
     "name": "stdout",
     "output_type": "stream",
     "text": [
      "                   Feature  Coefficient\n",
      "57                State_SC     1.358299\n",
      "26                State_IN     1.322937\n",
      "40                State_NC     1.311859\n",
      "50                State_OH     1.110892\n",
      "17                State_CT     1.109415\n",
      "..                     ...          ...\n",
      "44                State_NJ    -1.411467\n",
      "52                State_ON    -1.519118\n",
      "7          UserType_Broker    -1.593167\n",
      "49                State_NY    -1.769167\n",
      "9   UserType_Not Specified    -2.291069\n",
      "\n",
      "[69 rows x 2 columns]\n"
     ]
    }
   ],
   "source": [
    "coefficients = pd.DataFrame({'Feature': features, 'Coefficient': logreg.coef_[0]})\n",
    "coefficients = coefficients.sort_values(by='Coefficient', ascending=False)\n",
    "pd.options.display.max_seq_items = 2000\n",
    "print(coefficients)"
   ]
  },
  {
   "cell_type": "code",
   "execution_count": 34,
   "metadata": {},
   "outputs": [],
   "source": [
    "coefficients.to_csv('coeff_forms_output.csv')"
   ]
  },
  {
   "cell_type": "code",
   "execution_count": 35,
   "metadata": {},
   "outputs": [],
   "source": [
    "# adjusting for imbalance of adopted users"
   ]
  },
  {
   "cell_type": "code",
   "execution_count": 36,
   "metadata": {},
   "outputs": [
    {
     "name": "stdout",
     "output_type": "stream",
     "text": [
      "Requirement already satisfied: imblearn in c:\\users\\kyle\\anaconda3\\lib\\site-packages (0.0)\n",
      "Requirement already satisfied: imbalanced-learn in c:\\users\\kyle\\anaconda3\\lib\\site-packages (from imblearn) (0.11.0)\n",
      "Requirement already satisfied: scipy>=1.5.0 in c:\\users\\kyle\\anaconda3\\lib\\site-packages (from imbalanced-learn->imblearn) (1.5.2)\n",
      "Requirement already satisfied: threadpoolctl>=2.0.0 in c:\\users\\kyle\\anaconda3\\lib\\site-packages (from imbalanced-learn->imblearn) (2.1.0)\n",
      "Requirement already satisfied: numpy>=1.17.3 in c:\\users\\kyle\\anaconda3\\lib\\site-packages (from imbalanced-learn->imblearn) (1.20.3)\n",
      "Requirement already satisfied: joblib>=1.1.1 in c:\\users\\kyle\\anaconda3\\lib\\site-packages (from imbalanced-learn->imblearn) (1.3.2)\n",
      "Requirement already satisfied: scikit-learn>=1.0.2 in c:\\users\\kyle\\anaconda3\\lib\\site-packages (from imbalanced-learn->imblearn) (1.3.0)\n",
      "Note: you may need to restart the kernel to use updated packages.\n"
     ]
    }
   ],
   "source": [
    "pip install imblearn"
   ]
  },
  {
   "cell_type": "code",
   "execution_count": 37,
   "metadata": {},
   "outputs": [
    {
     "name": "stdout",
     "output_type": "stream",
     "text": [
      "0    58299\n",
      "1    58299\n",
      "Name: Habit_Formed, dtype: int64\n"
     ]
    }
   ],
   "source": [
    "from imblearn.over_sampling import SMOTE\n",
    "\n",
    "# Instantiate SMOTE\n",
    "smote = SMOTE(random_state=42)\n",
    "\n",
    "# Fit SMOTE on training data\n",
    "X_resampled, y_resampled = smote.fit_resample(X_train, y_train)\n",
    "\n",
    "# Verify the balance\n",
    "print(y_resampled.value_counts())"
   ]
  },
  {
   "cell_type": "code",
   "execution_count": 38,
   "metadata": {},
   "outputs": [
    {
     "name": "stdout",
     "output_type": "stream",
     "text": [
      "              precision    recall  f1-score   support\n",
      "\n",
      "           0       0.99      0.92      0.95     24981\n",
      "           1       0.36      0.87      0.51      1346\n",
      "\n",
      "    accuracy                           0.91     26327\n",
      "   macro avg       0.67      0.89      0.73     26327\n",
      "weighted avg       0.96      0.91      0.93     26327\n",
      "\n"
     ]
    },
    {
     "name": "stderr",
     "output_type": "stream",
     "text": [
      "C:\\Users\\Kyle\\anaconda3\\lib\\site-packages\\sklearn\\linear_model\\_logistic.py:460: ConvergenceWarning: lbfgs failed to converge (status=1):\n",
      "STOP: TOTAL NO. of ITERATIONS REACHED LIMIT.\n",
      "\n",
      "Increase the number of iterations (max_iter) or scale the data as shown in:\n",
      "    https://scikit-learn.org/stable/modules/preprocessing.html\n",
      "Please also refer to the documentation for alternative solver options:\n",
      "    https://scikit-learn.org/stable/modules/linear_model.html#logistic-regression\n",
      "  n_iter_i = _check_optimize_result(\n"
     ]
    }
   ],
   "source": [
    "# Initialize and fit the model on resampled data\n",
    "logreg_resampled = LogisticRegression(max_iter=1000)\n",
    "logreg_resampled.fit(X_resampled, y_resampled)\n",
    "\n",
    "# Predict and evaluate\n",
    "y_pred_resampled = logreg_resampled.predict(X_test)\n",
    "print(classification_report(y_test, y_pred_resampled))"
   ]
  },
  {
   "cell_type": "code",
   "execution_count": 39,
   "metadata": {},
   "outputs": [
    {
     "name": "stdout",
     "output_type": "stream",
     "text": [
      "ROC-AUC Score: 0.963551214227419\n"
     ]
    },
    {
     "data": {
      "image/png": "[encoded data removed]",
      "text/plain": [
       "<Figure size 576x432 with 1 Axes>"
      ]
     },
     "metadata": {
      "needs_background": "light"
     },
     "output_type": "display_data"
    }
   ],
   "source": [
    "from sklearn.metrics import roc_auc_score, roc_curve\n",
    "import matplotlib.pyplot as plt\n",
    "\n",
    "# Get the probability of Class 1\n",
    "y_prob_resampled = logreg_resampled.predict_proba(X_test)[:,1]\n",
    "\n",
    "# ROC-AUC score\n",
    "auc_score = roc_auc_score(y_test, y_prob_resampled)\n",
    "print(f\"ROC-AUC Score: {auc_score}\")\n",
    "\n",
    "# Plot ROC curve\n",
    "fpr, tpr, thresholds = roc_curve(y_test, y_prob_resampled)\n",
    "plt.figure(figsize=(8,6))\n",
    "plt.plot(fpr, tpr, label=f'ROC curve (area = {auc_score:.2f})')\n",
    "plt.plot([0, 1], [0, 1], linestyle='--')\n",
    "plt.xlim([0.0, 1.0])\n",
    "plt.ylim([0.0, 1.05])\n",
    "plt.xlabel('False Positive Rate')\n",
    "plt.ylabel('True Positive Rate')\n",
    "plt.title('Receiver Operating Characteristic Curve')\n",
    "plt.legend(loc=\"lower right\")\n",
    "plt.show()"
   ]
  },
  {
   "cell_type": "code",
   "execution_count": null,
   "metadata": {},
   "outputs": [],
   "source": []
  }
 ],
 "metadata": {
  "kernelspec": {
   "display_name": "Python 3",
   "language": "python",
   "name": "python3"
  },
  "language_info": {
   "codemirror_mode": {
    "name": "ipython",
    "version": 3
   },
   "file_extension": ".py",
   "mimetype": "text/x-python",
   "name": "python",
   "nbconvert_exporter": "python",
   "pygments_lexer": "ipython3",
   "version": "3.8.5"
  }
 },
 "nbformat": 4,
 "nbformat_minor": 4
}
